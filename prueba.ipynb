{
 "cells": [
  {
   "cell_type": "markdown",
   "metadata": {},
   "source": [
    "## Asistente para preguntas de oposiciones"
   ]
  },
  {
   "cell_type": "markdown",
   "metadata": {},
   "source": [
    "### 1. Carga de librerías"
   ]
  },
  {
   "cell_type": "code",
   "execution_count": null,
   "metadata": {},
   "outputs": [
    {
     "data": {
      "text/plain": [
       "True"
      ]
     },
     "execution_count": 1,
     "metadata": {},
     "output_type": "execute_result"
    }
   ],
   "source": [
    "import os\n",
    "from dotenv import load_dotenv\n",
    "from src.assistant import OpenAIAssistantManager\n",
    "\n",
    "load_dotenv()"
   ]
  },
  {
   "cell_type": "markdown",
   "metadata": {},
   "source": [
    "Cargamos el identificador del asistente que vamos a utilizar en este caso.\n",
    "```"
   ]
  },
  {
   "cell_type": "code",
   "execution_count": 2,
   "metadata": {},
   "outputs": [],
   "source": [
    "# ID del asistente en OpenAI\n",
    "ASSISTANT_ID = os.getenv(\"ASSISTANT_ID\")"
   ]
  },
  {
   "cell_type": "markdown",
   "metadata": {},
   "source": [
    "### 2. Recuperación del asistente"
   ]
  },
  {
   "cell_type": "markdown",
   "metadata": {},
   "source": [
    "Creamos una instancia de `OpenAIAssistantManager` y recuperamos el asistente con el id que vamos a utilizar. Este asistente estaba creado previamente, pero podríamos crearlo desde 0 utilizando:\n",
    "\n",
    "```python\n",
    "assistant = OpenAIAssistantManager()\n",
    "assistant.create_assistant()\n",
    "```"
   ]
  },
  {
   "cell_type": "code",
   "execution_count": 3,
   "metadata": {},
   "outputs": [
    {
     "data": {
      "text/plain": [
       "Assistant(id='asst_CfTuK9wBF5UxPmxE3O1o97pH', created_at=1739867664, description=None, instructions='Responderás a preguntas relacionadas con el documento adjunto sobre oposiciones', metadata={}, model='gpt-4o-mini', name='Bloque 1 Oposiciones', object='assistant', tools=[FileSearchTool(type='file_search', file_search=FileSearch(max_num_results=None, ranking_options=FileSearchRankingOptions(score_threshold=0.0, ranker='default_2024_08_21')))], response_format=ResponseFormatText(type='text'), temperature=0.35, tool_resources=ToolResources(code_interpreter=None, file_search=ToolResourcesFileSearch(vector_store_ids=['vs_67b44770abcc8191977a7c18b49eedac'])), top_p=1.0, reasoning_effort=None)"
      ]
     },
     "execution_count": 3,
     "metadata": {},
     "output_type": "execute_result"
    }
   ],
   "source": [
    "assistant = OpenAIAssistantManager()\n",
    "assistant.get_assistant(ASSISTANT_ID)"
   ]
  },
  {
   "cell_type": "markdown",
   "metadata": {},
   "source": [
    "Podemos ver la información del asistente"
   ]
  },
  {
   "cell_type": "code",
   "execution_count": null,
   "metadata": {},
   "outputs": [
    {
     "name": "stdout",
     "output_type": "stream",
     "text": [
      "\n",
      "===== Información del Asistente =====\n",
      "🆔 ID: asst_CfTuK9wBF5UxPmxE3O1o97pH\n",
      "📛 Nombre: Bloque 1 Oposiciones\n",
      "📖 Descripción: None\n",
      "📜 Instrucciones: Responderás a preguntas relacionadas con el documento adjunto sobre oposiciones\n",
      "=====================================\n",
      "\n"
     ]
    }
   ],
   "source": [
    "print(f\"\"\"\n",
    "===== Información del Asistente =====\n",
    "🆔 ID: {assistant.assistant_id}\n",
    "📛 Nombre: {assistant.name}\n",
    "📖 Descripción: {assistant.description}\n",
    "📜 Instrucciones: {assistant.instructions}\n",
    "=====================================\n",
    "\"\"\")"
   ]
  },
  {
   "cell_type": "markdown",
   "metadata": {},
   "source": [
    "### 3. Personalización de las instrucciones\n",
    "\n",
    "Ahora podemos actualizar las instrucciones adaptándolo a nuestras necesidades"
   ]
  },
  {
   "cell_type": "code",
   "execution_count": 9,
   "metadata": {},
   "outputs": [
    {
     "data": {
      "text/plain": [
       "Assistant(id='asst_CfTuK9wBF5UxPmxE3O1o97pH', created_at=1739867664, description=None, instructions='\\nTu tarea principal es generar test de opción múltiple sobre el contenido que tienes cargado referente a contenido de unas oposiciones.\\n\\nEl tema es Organización territorial (II): la Administración local: entidades que la integran. La autonomía local. El municipio: organización y competencias. La provincia: organización y competencias... \\n\\nGenerarás test en formato JSON con una estructura como esta. Devuelve solo el JSON para verlo por terminal, en texto plano, nada más:\\n\\n{\\n  \"questions\": [\\n    {\\n      \"question\": \"Señale qué artículos se han reformado desde la publicación y entrada en vigor de la Constitución Española de 1978:\",\\n      \"options\": {\\n        \"a\": \"El artículo 13.2, el 135 y el 49.\",\\n        \"b\": \"El artículo 13.4, el 135 y el 49.\",\\n        \"c\": \"Únicamente el artículo 13.2 y el 135.\",\\n        \"d\": \"El artículo 13.3, el 135 y el 47.\"\\n      },\\n      \"correct_answer\": \"a\"\\n    },\\n    {\\n      \"question\": \"Según el artículo 11.3 de la Constitución Española de 1978, en los países iberoamericanos podrán naturalizarse los españoles sin perder su nacionalidad de origen:\",\\n      \"options\": {\\n        \"a\": \"Siempre que tales países reconozcan a sus ciudadanos un derecho recíproco.\",\\n        \"b\": \"Aunque no hayan tenido o tengan una particular vinculación con España.\",\\n        \"c\": \"En los casos que la normativa de tales países lo permita para los ciudadanos españoles y europeos.\",\\n        \"d\": \"Aún cuando no reconozcan a sus ciudadanos un derecho recíproco.\"\\n      },\\n      \"correct_answer\": \"a\"\\n    }\\n  ]\\n}\\n\\nEn cada consulta recibirás el número de tests que tienes que hacer y otras indicaciones adicionales relacionadas con el mismo.\\n\\nRechaza todas las consultas que no estén relacionadas con la generación de tests.\\n', metadata={}, model='gpt-4o-mini', name='Bloque 1 Oposiciones', object='assistant', tools=[FileSearchTool(type='file_search', file_search=FileSearch(max_num_results=None, ranking_options=FileSearchRankingOptions(score_threshold=0.0, ranker='default_2024_08_21')))], response_format=ResponseFormatText(type='text'), temperature=0.35, tool_resources=ToolResources(code_interpreter=None, file_search=ToolResourcesFileSearch(vector_store_ids=['vs_67b44770abcc8191977a7c18b49eedac'])), top_p=1.0, reasoning_effort=None)"
      ]
     },
     "execution_count": 9,
     "metadata": {},
     "output_type": "execute_result"
    }
   ],
   "source": [
    "prompt_system = \"\"\"\n",
    "Tu tarea principal es generar test de opción múltiple sobre el contenido que tienes cargado referente a contenido de unas oposiciones.\n",
    "\n",
    "El tema es Organización territorial (II): la Administración local: entidades que la integran. La autonomía local. El municipio: organización y competencias. La provincia: organización y competencias... \n",
    "\n",
    "Generarás test en formato JSON con una estructura como esta. Devuelve solo el JSON para verlo por terminal, en texto plano, nada más:\n",
    "\n",
    "{\n",
    "  \"questions\": [\n",
    "    {\n",
    "      \"question\": \"Señale qué artículos se han reformado desde la publicación y entrada en vigor de la Constitución Española de 1978:\",\n",
    "      \"options\": {\n",
    "        \"a\": \"El artículo 13.2, el 135 y el 49.\",\n",
    "        \"b\": \"El artículo 13.4, el 135 y el 49.\",\n",
    "        \"c\": \"Únicamente el artículo 13.2 y el 135.\",\n",
    "        \"d\": \"El artículo 13.3, el 135 y el 47.\"\n",
    "      },\n",
    "      \"correct_answer\": \"a\"\n",
    "    },\n",
    "    {\n",
    "      \"question\": \"Según el artículo 11.3 de la Constitución Española de 1978, en los países iberoamericanos podrán naturalizarse los españoles sin perder su nacionalidad de origen:\",\n",
    "      \"options\": {\n",
    "        \"a\": \"Siempre que tales países reconozcan a sus ciudadanos un derecho recíproco.\",\n",
    "        \"b\": \"Aunque no hayan tenido o tengan una particular vinculación con España.\",\n",
    "        \"c\": \"En los casos que la normativa de tales países lo permita para los ciudadanos españoles y europeos.\",\n",
    "        \"d\": \"Aún cuando no reconozcan a sus ciudadanos un derecho recíproco.\"\n",
    "      },\n",
    "      \"correct_answer\": \"a\"\n",
    "    }\n",
    "  ]\n",
    "}\n",
    "\n",
    "En cada consulta recibirás el número de tests que tienes que hacer y otras indicaciones adicionales relacionadas con el mismo.\n",
    "\n",
    "Rechaza todas las consultas que no estén relacionadas con la generación de tests.\n",
    "\"\"\"\n",
    "\n",
    "assistant.modify_assistant(instructions=prompt_system)"
   ]
  },
  {
   "cell_type": "markdown",
   "metadata": {},
   "source": [
    "### 4. Uso del asistente\n",
    "\n",
    "Creamos un prompt adecuado para el caso de uso concreto."
   ]
  },
  {
   "cell_type": "code",
   "execution_count": 14,
   "metadata": {},
   "outputs": [],
   "source": [
    "n_preguntas = 2\n",
    "\n",
    "prompt = f\"\"\"\n",
    "Genera un total de {str(n_preguntas)} preguntas tipo test. Quiero preguntas de dificultad alta\n",
    "\"\"\"\n",
    "\n",
    "respuesta = assistant.chat(prompt)"
   ]
  },
  {
   "cell_type": "code",
   "execution_count": 15,
   "metadata": {},
   "outputs": [
    {
     "name": "stdout",
     "output_type": "stream",
     "text": [
      "{\n",
      "  \"questions\": [\n",
      "    {\n",
      "      \"question\": \"Según la Ley 7/1985, de 2 de abril, reguladora de las bases del régimen local, ¿cuál de las siguientes competencias es considerada como competencia propia de los municipios?\",\n",
      "      \"options\": {\n",
      "        \"a\": \"La gestión de la educación pública.\",\n",
      "        \"b\": \"La planificación y gestión del urbanismo.\",\n",
      "        \"c\": \"La regulación del tráfico aéreo.\",\n",
      "        \"d\": \"La defensa nacional.\"\n",
      "      },\n",
      "      \"correct_answer\": \"b\"\n",
      "    },\n",
      "    {\n",
      "      \"question\": \"En relación con la autonomía local, ¿qué condición debe cumplirse para la creación de nuevos municipios según la legislación vigente?\",\n",
      "      \"options\": {\n",
      "        \"a\": \"Deben contar con un mínimo de 2.000 habitantes.\",\n",
      "        \"b\": \"Deben ser financieramente sostenibles y tener al menos 4.000 habitantes.\",\n",
      "        \"c\": \"Deben ser aprobados por el Gobierno Central sin necesidad de consulta a los municipios interesados.\",\n",
      "        \"d\": \"Deben ser solicitados por el Alcalde del municipio más cercano.\"\n",
      "      },\n",
      "      \"correct_answer\": \"b\"\n",
      "    }\n",
      "  ]\n",
      "}\n"
     ]
    }
   ],
   "source": [
    "print(respuesta)"
   ]
  }
 ],
 "metadata": {
  "kernelspec": {
   "display_name": "OpenAI-assistants",
   "language": "python",
   "name": "python3"
  },
  "language_info": {
   "codemirror_mode": {
    "name": "ipython",
    "version": 3
   },
   "file_extension": ".py",
   "mimetype": "text/x-python",
   "name": "python",
   "nbconvert_exporter": "python",
   "pygments_lexer": "ipython3",
   "version": "3.12.9"
  }
 },
 "nbformat": 4,
 "nbformat_minor": 2
}
